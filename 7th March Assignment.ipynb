{
 "cells": [
  {
   "cell_type": "markdown",
   "id": "87563302",
   "metadata": {},
   "source": [
    "### 1.\n",
    "\n",
    "**The three measures of central tendencies are mean, median, mode.**"
   ]
  },
  {
   "cell_type": "markdown",
   "id": "be713124",
   "metadata": {},
   "source": [
    "### 2.\n",
    "\n",
    "**The mean, median, and mode are all measures of central tendency in a dataset. The mean is the average value of the given observations, calculated by adding up all the values and dividing by the number of observations. The median is the middle value of the given observations when they are arranged in order. The mode is the most repeated value in the given observation.**\n",
    "\n",
    "**The choice of which measure of central tendency to use depends on the nature of the dataset and the question being asked. The mean is commonly used for normally distributed datasets, while the median is often used for skewed datasets or datasets with outliers. The mode is useful for datasets with categorical or discrete values, but it may not be applicable to continuous datasets. It is also possible to use a combination of these measures to gain a better understanding of the central tendency of the dataset.**"
   ]
  },
  {
   "cell_type": "markdown",
   "id": "37897b4b",
   "metadata": {},
   "source": [
    "### 3."
   ]
  },
  {
   "cell_type": "code",
   "execution_count": 1,
   "id": "513427e7",
   "metadata": {},
   "outputs": [],
   "source": [
    "import numpy as np\n",
    "from scipy import stats\n",
    "\n",
    "d = [178,177,176,177,178.2,178,175,179,180,175,178.9,176.2,177,172.5,178,176.5]"
   ]
  },
  {
   "cell_type": "code",
   "execution_count": 2,
   "id": "ce0b287b",
   "metadata": {},
   "outputs": [
    {
     "data": {
      "text/plain": [
       "177.01875"
      ]
     },
     "execution_count": 2,
     "metadata": {},
     "output_type": "execute_result"
    }
   ],
   "source": [
    "np.mean(d)"
   ]
  },
  {
   "cell_type": "code",
   "execution_count": 3,
   "id": "6bc42e7e",
   "metadata": {},
   "outputs": [
    {
     "data": {
      "text/plain": [
       "177.0"
      ]
     },
     "execution_count": 3,
     "metadata": {},
     "output_type": "execute_result"
    }
   ],
   "source": [
    "np.median(d)"
   ]
  },
  {
   "cell_type": "code",
   "execution_count": 4,
   "id": "ab041175",
   "metadata": {},
   "outputs": [
    {
     "name": "stderr",
     "output_type": "stream",
     "text": [
      "C:\\Users\\DELL\\AppData\\Local\\Temp\\ipykernel_6584\\3857837850.py:1: FutureWarning: Unlike other reduction functions (e.g. `skew`, `kurtosis`), the default behavior of `mode` typically preserves the axis it acts along. In SciPy 1.11.0, this behavior will change: the default value of `keepdims` will become False, the `axis` over which the statistic is taken will be eliminated, and the value None will no longer be accepted. Set `keepdims` to True or False to avoid this warning.\n",
      "  stats.mode(d)\n"
     ]
    },
    {
     "data": {
      "text/plain": [
       "ModeResult(mode=array([177.]), count=array([3]))"
      ]
     },
     "execution_count": 4,
     "metadata": {},
     "output_type": "execute_result"
    }
   ],
   "source": [
    "stats.mode(d)"
   ]
  },
  {
   "cell_type": "markdown",
   "id": "6da55f10",
   "metadata": {},
   "source": [
    "### 4."
   ]
  },
  {
   "cell_type": "code",
   "execution_count": 5,
   "id": "1612c9c8",
   "metadata": {},
   "outputs": [],
   "source": [
    "f = [178,177,176,177,178.2,178,175,179,180,175,178.9,176.2,177,172.5,178,176.5]"
   ]
  },
  {
   "cell_type": "code",
   "execution_count": 6,
   "id": "7fee9204",
   "metadata": {},
   "outputs": [
    {
     "data": {
      "text/plain": [
       "1.7885814036548633"
      ]
     },
     "execution_count": 6,
     "metadata": {},
     "output_type": "execute_result"
    }
   ],
   "source": [
    "np.std(f)"
   ]
  },
  {
   "cell_type": "markdown",
   "id": "1beed2a3",
   "metadata": {},
   "source": [
    "### 5.\n",
    "\n",
    "**The decribe of dispersion as range, variance, standard deviation:-**\n",
    "\n",
    "1. Range: The range is the difference between the largest and smallest values in the dataset. It provides a simple measure of the spread of the dataset, but it is sensitive to outliers.\n",
    "\n",
    "2. Variance: The variance is the average of the squared differences from the mean of the dataset. It measures how far the individual data points are from the mean. A high variance indicates that the data points are spread out over a wide range of values, while a low variance indicates that the data points are clustered closely around the mean.\n",
    "\n",
    "3. Standard deviation: The standard deviation is the square root of the variance. It measures the spread of the dataset in the same units as the original data. A high standard deviation indicates that the data points are spread out over a wide range of values, while a low standard deviation indicates that the data points are clustered closely around the mean. \n",
    "\n",
    "**For example, let's say we have a dataset of the heights (in inches) of students in a class:-**\n",
    "\n",
    "[60, 63, 64, 65, 66, 68, 69, 70, 72, 75]\n",
    "\n",
    "1. The range of the dataset is 15 (75-60), which means the heights range from 60 inches to 75 inches.\n",
    "\n",
    "2. The variance of the dataset is 30.5, which indicates that the individual heights vary from the mean height by an average of 5.5 inches.\n",
    "\n",
    "3. The standard deviation of the dataset is 5.52, which also indicates that the heights are spread out by an average of 5.5 inches from the mean height."
   ]
  },
  {
   "cell_type": "markdown",
   "id": "aa4af6e9",
   "metadata": {},
   "source": [
    "### 6.\n",
    "\n",
    "**A Venn diagram is a visual representation of the relationships between different sets of objects or ideas. It consists of one or more overlapping circles or shapes, each representing a set, and the areas where the circles overlap represent the intersection of the sets. Venn diagrams are often used to illustrate logical relationships between groups or to visualize data that has multiple attributes or dimensions.**"
   ]
  },
  {
   "cell_type": "markdown",
   "id": "b4049cb9",
   "metadata": {},
   "source": [
    "### 7.\n",
    "\n",
    "A = (2,3,4,5,6,7) B = (0,2,6,8,10)\n",
    "\n",
    "1. A ∩ B = {2, 6}\n",
    "2. A ⋃ B = {0, 2, 3, 4, 5, 6, 7, 8, 10}"
   ]
  },
  {
   "cell_type": "markdown",
   "id": "73f2940b",
   "metadata": {},
   "source": [
    "### 8.\n",
    "\n",
    "**Skewness is a statistical measure that describes the symmetry or lack of symmetry in a distribution of data. Specifically, it refers to the degree of asymmetry in the distribution. In a perfectly symmetrical distribution, the mean, median, and mode are all equal. However, in a skewed distribution, the mean, median, and mode are not equal, and the distribution appears to be shifted in one direction.**\n",
    "\n",
    "**There are two types of skewness: positive skewness and negative skewness. In a positively skewed distribution, the tail of the distribution extends to the right, and the majority of the data is concentrated on the left side. In a negatively skewed distribution, the tail of the distribution extends to the left, and the majority of the data is concentrated on the right side.**"
   ]
  },
  {
   "cell_type": "markdown",
   "id": "3ea24032",
   "metadata": {},
   "source": [
    "### 9.\n",
    "\n",
    "**If a data distribution is right skewed, then the tail of the distribution will be longer on the right-hand side, and the majority of the data will be clustered towards the left-hand side. In this case, the mean will be pulled towards the tail on the right-hand side, and hence it will be greater than the median. Therefore, the median will be to the left of the mean in a right-skewed distribution.**"
   ]
  },
  {
   "cell_type": "markdown",
   "id": "6746cc80",
   "metadata": {},
   "source": [
    "### 10.\n",
    "\n",
    "**The difference between covariance and correlation are:-**\n",
    "\n",
    "1. Covariance indicates the extent of the variable being dependent on each other. Higher value denotes higher dependency. On the other hand Correlation signifies the strength of association between the variables when the other things are constant.\n",
    "\n",
    "2. Correlation can be gathered from covariance. On the other hand Correlation gives the value of covariance on a standard scale.\n",
    "\n",
    "3. Correlation affects covariance. Correlation isn’t affected by a change in scale.\n",
    "\n",
    "**In statistical analysis, correlation is a more commonly used measure than covariance because it provides a standardized measure of the relationship between variables that is not affected by differences in their units. Correlation is often used to assess the strength and direction of the relationship between variables and to identify potential predictors in regression analysis. Covariance, on the other hand, is often used in portfolio analysis to measure the co-movement of different assets.**"
   ]
  },
  {
   "cell_type": "markdown",
   "id": "2e667ffb",
   "metadata": {},
   "source": [
    "### 11.\n",
    "\n",
    "**The formula for calculating the sample mean is:- x̄ = Σx / n**\n",
    "\n",
    "where:\n",
    "\n",
    "1. x̄ represents the sample mean\n",
    "2. Σx represents the sum of all the values in the dataset\n",
    "3. n represents the number of values in the dataset\n",
    "\n",
    "**Here's an example calculation of the sample mean for the dataset [3, 7, 11, 15, 19]:-**\n",
    "\n",
    "Add up all the values in the dataset: 3 + 7 + 11 + 15 + 19 = 55\n",
    "Count the number of values in the dataset: n = 5\n",
    "Divide the sum by the number of values: 55 / 5 = 11\n",
    "So the sample mean for this dataset is 11."
   ]
  },
  {
   "cell_type": "markdown",
   "id": "f55ea0a7",
   "metadata": {},
   "source": [
    "### 12.\n",
    "\n",
    "**For a normal distribution, the three measures of central tendency - mean, median, and mode - are all equal to each other. This means that the distribution is symmetric around the mean, and the peak of the curve (the mode) is also located at the mean.**"
   ]
  },
  {
   "cell_type": "markdown",
   "id": "44d046da",
   "metadata": {},
   "source": [
    "### 13.\n",
    "\n",
    "**Covariance and correlation are both statistical measures used to describe the relationship between two variables. covariance measures the joint variability of two variables, while correlation measures the strength and direction of the linear relationship between two variables, and is scaled between -1 and 1.**"
   ]
  },
  {
   "cell_type": "markdown",
   "id": "db2afcd5",
   "metadata": {},
   "source": [
    "### 14.\n",
    "\n",
    "**Outliers are data points that are significantly different from the majority of the other data points in a dataset. They can affect measures of central tendency and dispersion by distorting the typical values and spread of the data.**\n",
    "\n",
    "**For example, suppose a class of 20 students takes a test and their scores range from 50 to 100. However, one student gets a score of 10, which is significantly lower than the rest of the class. If we compute the mean score for the class, the outlier score of 10 will significantly lower the mean. However, if we compute the median score for the class, the outlier will not have as much of an effect. Similarly, if we compute the standard deviation of the scores, the outlier score of 10 will increase the standard deviation and make it appear that the scores have more variation than they actually do.**"
   ]
  },
  {
   "cell_type": "code",
   "execution_count": null,
   "id": "d73e4fdb",
   "metadata": {},
   "outputs": [],
   "source": []
  },
  {
   "cell_type": "code",
   "execution_count": null,
   "id": "3b616980",
   "metadata": {},
   "outputs": [],
   "source": []
  },
  {
   "cell_type": "code",
   "execution_count": null,
   "id": "5fb75f0e",
   "metadata": {},
   "outputs": [],
   "source": []
  }
 ],
 "metadata": {
  "kernelspec": {
   "display_name": "Python 3 (ipykernel)",
   "language": "python",
   "name": "python3"
  },
  "language_info": {
   "codemirror_mode": {
    "name": "ipython",
    "version": 3
   },
   "file_extension": ".py",
   "mimetype": "text/x-python",
   "name": "python",
   "nbconvert_exporter": "python",
   "pygments_lexer": "ipython3",
   "version": "3.9.13"
  }
 },
 "nbformat": 4,
 "nbformat_minor": 5
}
