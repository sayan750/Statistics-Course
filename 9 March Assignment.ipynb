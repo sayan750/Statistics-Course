{
 "cells": [
  {
   "cell_type": "markdown",
   "id": "823dd662",
   "metadata": {},
   "source": [
    "### 1.\n",
    "\n",
    "**The PMF is a function that maps each possible value of a discrete random variable to its probability of occurrence. In other words, it gives the probability that a random variable takes a specific value. For example, consider a fair six-sided die. The possible outcomes are {1, 2, 3, 4, 5, 6}, and each outcome has an equal probability of 1/6. The PMF of the die can be represented as:-**\n",
    "\n",
    "1. P(X = 1) = 1/6\n",
    "2. P(X = 2) = 1/6\n",
    "3. P(X = 3) = 1/6\n",
    "4. P(X = 4) = 1/6\n",
    "5. P(X = 5) = 1/6\n",
    "6. P(X = 6) = 1/6\n",
    "\n",
    "**Here, X is the random variable representing the outcome of the die roll.**\n",
    "\n",
    "**PDF is used to describe the probability distribution of continuous random variables. It gives the relative likelihood that a random variable takes a specific value within a given range.For example, consider the height of adult males in a certain population. This height can take any value within a range of possible heights. The PDF of the height distribution gives the relative likelihood of a male having a specific height.**"
   ]
  },
  {
   "cell_type": "markdown",
   "id": "5dc30465",
   "metadata": {},
   "source": [
    "### 2.\n",
    "\n",
    "**A Cumulative Density Function (CDF) is a mathematical function that describes the probability distribution of a random variable. Specifically, the CDF for a random variable X is defined as the probability that X takes on a value less than or equal to a given value x.**\n",
    "\n",
    "**As an example, let's consider a random variable X that represents the number of heads that come up in two flips of a fair coin. The possible values of X are 0, 1, and 2. The CDF of X can be calculated as follows:**\n",
    "\n",
    "1. F(0) = P(X ≤ 0) = P(X = 0) = 1/4 (since there is only one way to get zero heads in two flips)\n",
    "2. F(1) = P(X ≤ 1) = P(X = 0 or X = 1) = 1/4 + 2/4 = 3/4 (since there are two ways to get one head in two flips)\n",
    "3. F(2) = P(X ≤ 2) = P(X = 0 or X = 1 or X = 2) = 1/4 + 2/4 + 1/4 = 1 (since there is only one way to get two heads in two flips)\n",
    "\n",
    "**The resulting CDF is:-**\n",
    "\n",
    "1. F(0) = 1/4\n",
    "2. F(1) = 3/4\n",
    "3. F(2) = 1\n",
    "\n",
    "The CDF is used to describe the probability distribution of a random variable and to calculate various statistics such as the mean, variance, and percentiles of the distribution. It is also useful for performing hypothesis tests and making predictions based on the probability distribution of the random variable."
   ]
  },
  {
   "cell_type": "markdown",
   "id": "b0e9b85e",
   "metadata": {},
   "source": [
    "### 3.\n",
    "\n",
    "**The normal distribution, also known as the Gaussian distribution, is a probability distribution that is commonly used to model continuous random variables. Some examples of situations where the normal distribution might be used as a model include:-**\n",
    "\n",
    "1. Heights of a population: The height of a population tends to follow a normal distribution, with most people being of average height and fewer people being very tall or very short.\n",
    "\n",
    "2. IQ scores: IQ scores tend to follow a normal distribution, with most people having an average IQ and fewer people having very high or very low IQs.\n",
    "\n",
    "3. Stock prices: Stock prices often follow a normal distribution, with most days having small fluctuations and fewer days having large increases or decreases in price.\n",
    "\n",
    "**The normal distribution is characterized by two parameters: the mean (μ) and the standard deviation (σ). The mean represents the center of the distribution, while the standard deviation represents the spread of the distribution. Specifically, the mean is the value that the distribution is centered around, and the standard deviation describes how spread out the values are from the mean.**\n",
    "\n",
    "**The shape of the normal distribution is also determined by these parameters. The distribution is symmetric around the mean, with the highest point of the distribution occurring at the mean. As the standard deviation increases, the distribution becomes more spread out, and the tails of the distribution become thinner. Conversely, as the standard deviation decreases, the distribution becomes more tightly clustered around the mean, and the tails become thicker.**"
   ]
  },
  {
   "cell_type": "markdown",
   "id": "144d9ce6",
   "metadata": {},
   "source": [
    "### 4.\n",
    "\n",
    "**Normal distribution, also known as Gaussian distribution, is an essential concept in statistics and probability theory. It is a continuous probability distribution that describes the probability distribution of a random variable, where the majority of the observations fall near the mean value of the distribution, and the probability of extreme values decreases as we move away from the mean.Here are a few real-life examples of normal distribution:-**\n",
    "\n",
    "1. Height: The height of the human population follows a normal distribution, where the majority of people have an average height, and fewer people have either shorter or taller heights.\n",
    "\n",
    "2. IQ scores: IQ scores also follow a normal distribution, where the majority of the population has an average IQ score, and fewer people have either higher or lower IQ scores.\n",
    "\n",
    "3. Weight: The weight of newborn babies also follows a normal distribution, where most babies have an average weight, and fewer babies have either lighter or heavier weights."
   ]
  },
  {
   "cell_type": "markdown",
   "id": "f80284db",
   "metadata": {},
   "source": [
    "### 5.\n",
    "\n",
    "**The Bernoulli distribution is a discrete probability distribution that models a random experiment with only two possible outcomes, typically labeled as \"success\" and \"failure\". It is named after Swiss mathematician Jacob Bernoulli, who developed it in the 17th century. The probability mass function of the Bernoulli distribution is given by:-**\n",
    "\n",
    "1. P(X = 1) = p\n",
    "\n",
    "2.P(X = 0) = 1 - p\n",
    "\n",
    "**An example of the Bernoulli distribution is flipping a fair coin, where the outcome of heads is considered a success and the outcome of tails is considered a failure. In this case, p = 0.5.**\n",
    "\n",
    "**The difference between Bernouli & Binomial Distributions are:-**\n",
    "\n",
    "1. Bernoulli distribution is used when we want to model the outcome of a single trial of an event. On the other hand If we want to model the outcome of multiple trials of an event, Binomial distribution is used.\n",
    "\n",
    "2. In Bernouli Distribution Mean, E[X] = p, On the other hand Binomial Distribution Mean, E[X] = np.\n",
    "\n",
    "3. In Bernouli Distribution Variance, Var[X] = p(1-p), On the other hand Binomial Distribution Variance, Var[X]= np(1-p)."
   ]
  },
  {
   "cell_type": "markdown",
   "id": "6f50634e",
   "metadata": {},
   "source": [
    "### 6.\n",
    "\n",
    "**We can use the standard normal distribution formula to solve this problem, where we first standardize the given value using the mean and standard deviation of the original dataset and then use the standard normal distribution table to find the corresponding probability. The standardized value is given by:- z = (x - μ) / σ**\n",
    "\n",
    "where:- \n",
    "\n",
    "1. x = 60 is the value we are interested in\n",
    "2. μ = 50 is the mean of the dataset\n",
    "3. σ = 10 is the standard deviation of the dataset\n",
    "\n",
    "**Substituting these values, we get:**\n",
    "\n",
    "z = (60 - 50) / 10 = 1\n",
    "\n",
    "**we find that the probability of Z being greater than 1 is approximately 0.1587.P(X > 60) = P(Z > 1) = 0.1587.**\n",
    "\n",
    "So, there is a 15.87% chance that a randomly selected observation from the given dataset will be greater than 60."
   ]
  },
  {
   "cell_type": "markdown",
   "id": "677c9dbb",
   "metadata": {},
   "source": [
    "### 7.\n",
    "\n",
    "**Uniform distribution is a continuous probability distribution in which every possible outcome of a random variable is equally likely to occur. For example, suppose you roll a fair six-sided die. Each of the six possible outcomes (1, 2, 3, 4, 5, 6) is equally likely to occur, and the probability of each outcome is 1/6. This is an example of a discrete uniform distribution.**"
   ]
  },
  {
   "cell_type": "markdown",
   "id": "55bb7a79",
   "metadata": {},
   "source": [
    "### 8.\n",
    "\n",
    "**A z-score (also known as a standard score) is a statistical measurement that indicates how many standard deviations an observation or data point is from the mean of the population or sample. The formula for calculating the z-score is:-**\n",
    "\n",
    "z = (x - μ) / σ\n",
    "\n",
    "where:\n",
    "\n",
    "1. x is the data point\n",
    "2. μ is the population mean\n",
    "3. σ is the population standard deviation\n",
    "\n",
    "**The importance of the z-score is that it allows us to standardize and compare observations or data points from different populations or samples, even if they have different scales or units of measurement**"
   ]
  },
  {
   "cell_type": "markdown",
   "id": "d86b0eef",
   "metadata": {},
   "source": [
    "### 9.\n",
    "\n",
    "**The Central Limit Theorem (CLT) is a fundamental concept in statistics and probability theory. It states that the sum or average of a large number of independent and identically distributed (i.i.d.) random variables tends towards a normal distribution, regardless of the distribution of the original random variables.**\n",
    "\n",
    "**The significance of the CLT is that it provides a powerful tool for making inferences about a population based on a sample. For example, if we are interested in estimating the mean height of a population, we can take a sample of heights and use the sample mean to estimate the population mean.**"
   ]
  },
  {
   "cell_type": "markdown",
   "id": "9b6dfed9",
   "metadata": {},
   "source": [
    "### 10.\n",
    "\n",
    "**The assumptions of the CLT are as follows:-**\n",
    "\n",
    "1. Independence: The sample observations are independent of each other.\n",
    "\n",
    "2. Identically distributed: The sample observations are drawn from the same probability distribution with a finite mean and a finite variance.\n",
    "\n",
    "3. Large sample size: The sample size is sufficiently large (typically n > 30) so that the sample mean can be considered as a normally distributed variable."
   ]
  },
  {
   "cell_type": "code",
   "execution_count": null,
   "id": "b2f96af1",
   "metadata": {},
   "outputs": [],
   "source": []
  },
  {
   "cell_type": "code",
   "execution_count": null,
   "id": "2a6e2335",
   "metadata": {},
   "outputs": [],
   "source": []
  },
  {
   "cell_type": "code",
   "execution_count": null,
   "id": "0de844a2",
   "metadata": {},
   "outputs": [],
   "source": []
  },
  {
   "cell_type": "code",
   "execution_count": null,
   "id": "09394ae5",
   "metadata": {},
   "outputs": [],
   "source": []
  },
  {
   "cell_type": "code",
   "execution_count": null,
   "id": "0458e12a",
   "metadata": {},
   "outputs": [],
   "source": []
  }
 ],
 "metadata": {
  "kernelspec": {
   "display_name": "Python 3 (ipykernel)",
   "language": "python",
   "name": "python3"
  },
  "language_info": {
   "codemirror_mode": {
    "name": "ipython",
    "version": 3
   },
   "file_extension": ".py",
   "mimetype": "text/x-python",
   "name": "python",
   "nbconvert_exporter": "python",
   "pygments_lexer": "ipython3",
   "version": "3.9.13"
  }
 },
 "nbformat": 4,
 "nbformat_minor": 5
}
