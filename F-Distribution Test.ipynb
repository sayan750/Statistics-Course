{
 "cells": [
  {
   "cell_type": "markdown",
   "id": "facbf24e",
   "metadata": {},
   "source": [
    "### F-Distribution\n",
    "\n",
    "The F-distribution is a probability distribution that arises in statistical analysis and is used in hypothesis testing and analysis of variance (ANOVA). It is also known as the Snedecor's F-distribution, named after the American statistician George W. Snedecor.\n",
    "\n",
    "The F-distribution is a continuous probability distribution that is defined by two positive integer parameters, known as the degrees of freedom. The degrees of freedom are typically denoted by \"df1\" and \"df2\".\n",
    "\n",
    "In statistical hypothesis testing, the F-distribution is used to test the null hypothesis that two population variances are equal. This is done by computing the F-test statistic, which is the ratio of the sample variances of two groups. The F-test is used in analysis of variance (ANOVA) to test the significance of the differences among the means of multiple groups.\n",
    "\n",
    "The F-distribution is also used in the construction of confidence intervals for the ratio of two population variances. In addition, it plays a role in regression analysis, where it is used to test the overall significance of a regression model.\n",
    "\n",
    "The shape of the F-distribution depends on the degrees of freedom. As the degrees of freedom increase, the F-distribution becomes more symmetric and approaches a normal distribution. The F-distribution is right-skewed and takes only positive values."
   ]
  },
  {
   "cell_type": "code",
   "execution_count": 1,
   "id": "52140edf",
   "metadata": {},
   "outputs": [],
   "source": [
    "## Evidence to say that the two population variances are not equal.\n",
    "## Check we come to  conclusion whether one worker is better than the other\n",
    "\n",
    "worker1= [18, 19, 22, 25, 27, 28, 41, 45, 51, 55]\n",
    "worker2= [14, 15, 15, 17, 18, 22, 25, 25, 27, 34]"
   ]
  },
  {
   "cell_type": "code",
   "execution_count": 2,
   "id": "6137c98f",
   "metadata": {},
   "outputs": [],
   "source": [
    "## Calculate F-Test\n",
    "\n",
    "import numpy as np"
   ]
  },
  {
   "cell_type": "code",
   "execution_count": 4,
   "id": "9526e471",
   "metadata": {},
   "outputs": [],
   "source": [
    "f_test = np.var(worker1)/np.var(worker2)"
   ]
  },
  {
   "cell_type": "code",
   "execution_count": 5,
   "id": "3e9d54d3",
   "metadata": {},
   "outputs": [
    {
     "data": {
      "text/plain": [
       "4.387122002085506"
      ]
     },
     "execution_count": 5,
     "metadata": {},
     "output_type": "execute_result"
    }
   ],
   "source": [
    "f_test"
   ]
  },
  {
   "cell_type": "code",
   "execution_count": 6,
   "id": "f0bcac7d",
   "metadata": {},
   "outputs": [],
   "source": [
    "## Degree of freedom\n",
    "\n",
    "df1 = len(worker1)-1\n",
    "df2 = len(worker2)-1\n",
    "significance = 0.05"
   ]
  },
  {
   "cell_type": "code",
   "execution_count": 7,
   "id": "f515f82a",
   "metadata": {},
   "outputs": [],
   "source": [
    "import scipy.stats as stat"
   ]
  },
  {
   "cell_type": "code",
   "execution_count": 10,
   "id": "6e7fb0be",
   "metadata": {},
   "outputs": [],
   "source": [
    "critical_value = stat.f.ppf(q = 1-significance,dfn=df1,dfd=df2)"
   ]
  },
  {
   "cell_type": "code",
   "execution_count": 11,
   "id": "aec22607",
   "metadata": {},
   "outputs": [
    {
     "name": "stdout",
     "output_type": "stream",
     "text": [
      "Reject the Null Hypothesis\n"
     ]
    }
   ],
   "source": [
    "if f_test > critical_value:\n",
    "    print(\"Reject the Null Hypothesis\")\n",
    "else:\n",
    "    print(\"We fail to reject the null hypothesis\")"
   ]
  },
  {
   "cell_type": "code",
   "execution_count": null,
   "id": "de0ecfbd",
   "metadata": {},
   "outputs": [],
   "source": []
  },
  {
   "cell_type": "code",
   "execution_count": null,
   "id": "a0314ab3",
   "metadata": {},
   "outputs": [],
   "source": []
  },
  {
   "cell_type": "code",
   "execution_count": null,
   "id": "e9786196",
   "metadata": {},
   "outputs": [],
   "source": []
  },
  {
   "cell_type": "code",
   "execution_count": null,
   "id": "d8cb6155",
   "metadata": {},
   "outputs": [],
   "source": []
  },
  {
   "cell_type": "code",
   "execution_count": null,
   "id": "84eb3941",
   "metadata": {},
   "outputs": [],
   "source": []
  },
  {
   "cell_type": "code",
   "execution_count": null,
   "id": "55a262b6",
   "metadata": {},
   "outputs": [],
   "source": []
  },
  {
   "cell_type": "code",
   "execution_count": null,
   "id": "c2995b91",
   "metadata": {},
   "outputs": [],
   "source": []
  }
 ],
 "metadata": {
  "kernelspec": {
   "display_name": "Python 3 (ipykernel)",
   "language": "python",
   "name": "python3"
  },
  "language_info": {
   "codemirror_mode": {
    "name": "ipython",
    "version": 3
   },
   "file_extension": ".py",
   "mimetype": "text/x-python",
   "name": "python",
   "nbconvert_exporter": "python",
   "pygments_lexer": "ipython3",
   "version": "3.9.13"
  }
 },
 "nbformat": 4,
 "nbformat_minor": 5
}
