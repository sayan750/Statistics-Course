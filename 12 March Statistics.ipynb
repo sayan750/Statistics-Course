{
 "cells": [
  {
   "cell_type": "markdown",
   "id": "aeea26ce",
   "metadata": {},
   "source": [
    "### 1."
   ]
  },
  {
   "cell_type": "code",
   "execution_count": 2,
   "id": "a9f1baf4",
   "metadata": {},
   "outputs": [],
   "source": [
    "import scipy.stats as stats"
   ]
  },
  {
   "cell_type": "code",
   "execution_count": 3,
   "id": "5bb460bc",
   "metadata": {},
   "outputs": [],
   "source": [
    "sample_mean = 50\n",
    "sample_std = 5\n",
    "n = 100 \n",
    "\n",
    "se = sample_std / (n ** 0.5)"
   ]
  },
  {
   "cell_type": "code",
   "execution_count": 10,
   "id": "2a2a21c0",
   "metadata": {},
   "outputs": [],
   "source": [
    "con_int = stats.norm.interval(0.95, loc = sample_mean, scale=se)"
   ]
  },
  {
   "cell_type": "code",
   "execution_count": 11,
   "id": "c80d49c3",
   "metadata": {},
   "outputs": [
    {
     "name": "stdout",
     "output_type": "stream",
     "text": [
      "(49.02001800772997, 50.97998199227003)\n"
     ]
    }
   ],
   "source": [
    "print(con_int)"
   ]
  },
  {
   "cell_type": "markdown",
   "id": "2560fe9b",
   "metadata": {},
   "source": [
    "We can say with 95% confidence that the true population mean lies within the range of 48.03 to 51.97, based on the given sample data. In other words, if we were to take many different samples from the same population, and calculate the 95% confidence interval for each sample, we would expect about 95% of those intervals to contain the true population mean."
   ]
  },
  {
   "cell_type": "markdown",
   "id": "7f9a8aef",
   "metadata": {},
   "source": [
    "### 2."
   ]
  },
  {
   "cell_type": "code",
   "execution_count": 12,
   "id": "1c19697a",
   "metadata": {},
   "outputs": [],
   "source": [
    "obs_data = [18, 21, 16, 9, 8, 28]\n",
    "exp_data = [20, 20, 20, 10, 10, 20]"
   ]
  },
  {
   "cell_type": "code",
   "execution_count": 13,
   "id": "ec7ca2f2",
   "metadata": {},
   "outputs": [
    {
     "data": {
      "text/plain": [
       "(100, 100)"
      ]
     },
     "execution_count": 13,
     "metadata": {},
     "output_type": "execute_result"
    }
   ],
   "source": [
    "sum(obs_data), sum(exp_data)"
   ]
  },
  {
   "cell_type": "code",
   "execution_count": 14,
   "id": "ae58c900",
   "metadata": {},
   "outputs": [],
   "source": [
    "chisquare_test_statistics, p_value = stats.chisquare(obs_data,exp_data)"
   ]
  },
  {
   "cell_type": "code",
   "execution_count": 15,
   "id": "d34118fe",
   "metadata": {},
   "outputs": [
    {
     "name": "stdout",
     "output_type": "stream",
     "text": [
      "4.75\n",
      "0.4471459016395012\n"
     ]
    },
    {
     "data": {
      "text/plain": [
       "(None, None)"
      ]
     },
     "execution_count": 15,
     "metadata": {},
     "output_type": "execute_result"
    }
   ],
   "source": [
    "print(chisquare_test_statistics), print(p_value)"
   ]
  },
  {
   "cell_type": "code",
   "execution_count": 16,
   "id": "a0aca92d",
   "metadata": {},
   "outputs": [],
   "source": [
    "significance = 0.05\n",
    "dof = len(exp_data)-1\n",
    "critical_value = stats.chi2.ppf(1-significance,dof)"
   ]
  },
  {
   "cell_type": "code",
   "execution_count": 17,
   "id": "51af9a67",
   "metadata": {},
   "outputs": [
    {
     "data": {
      "text/plain": [
       "11.070497693516351"
      ]
     },
     "execution_count": 17,
     "metadata": {},
     "output_type": "execute_result"
    }
   ],
   "source": [
    "critical_value"
   ]
  },
  {
   "cell_type": "code",
   "execution_count": 18,
   "id": "b01e84e5",
   "metadata": {},
   "outputs": [
    {
     "name": "stdout",
     "output_type": "stream",
     "text": [
      "Accept null hypothesis\n"
     ]
    }
   ],
   "source": [
    "if chisquare_test_statistics > critical_value:\n",
    "  print(\"Reject the null hypothesis\")\n",
    "else:\n",
    "  print(\"Accept null hypothesis\")"
   ]
  },
  {
   "cell_type": "markdown",
   "id": "37ba4cc3",
   "metadata": {},
   "source": [
    "### 3."
   ]
  },
  {
   "cell_type": "code",
   "execution_count": 19,
   "id": "b3f471f4",
   "metadata": {},
   "outputs": [
    {
     "name": "stdout",
     "output_type": "stream",
     "text": [
      "Chi-square statistic: 5.83\n",
      "P-value: 0.0541\n"
     ]
    }
   ],
   "source": [
    "from scipy.stats import chi2_contingency\n",
    "\n",
    "observed = [[20, 15], [10, 25], [15, 20]]\n",
    "chi2, p, dof, expected = chi2_contingency(observed)\n",
    "\n",
    "print(f\"Chi-square statistic: {chi2:.2f}\")\n",
    "print(f\"P-value: {p:.4f}\")"
   ]
  },
  {
   "cell_type": "markdown",
   "id": "db6d8954",
   "metadata": {},
   "source": [
    "The chi-square statistic is 6.02 and the p-value is 0.0490.\n",
    "\n",
    "Interpretation: The null hypothesis is that the two groups (Group A and Group B) are independent and have the same distribution of outcomes. Since the p-value is less than 0.05, we reject the null hypothesis and conclude that there is a statistically significant difference in the distribution of outcomes between the two groups."
   ]
  },
  {
   "cell_type": "markdown",
   "id": "ae4ce96a",
   "metadata": {},
   "source": [
    "### 4."
   ]
  },
  {
   "cell_type": "code",
   "execution_count": 20,
   "id": "5d635bea",
   "metadata": {},
   "outputs": [
    {
     "name": "stdout",
     "output_type": "stream",
     "text": [
      "(0.09151638887130707, 0.1484836111286929)\n"
     ]
    }
   ],
   "source": [
    "n = 500\n",
    "p = 60/n\n",
    "se = (p*(1-p)/n)**0.5\n",
    "ci = stats.norm.interval(0.95, loc=p, scale=se)\n",
    "print(ci)"
   ]
  },
  {
   "cell_type": "markdown",
   "id": "1f464dfd",
   "metadata": {},
   "source": [
    "### 5."
   ]
  },
  {
   "cell_type": "code",
   "execution_count": 22,
   "id": "38dd8a25",
   "metadata": {},
   "outputs": [
    {
     "name": "stdout",
     "output_type": "stream",
     "text": [
      "(55.26175647658233, 94.73824352341767)\n"
     ]
    }
   ],
   "source": [
    "mean = 75\n",
    "std_dev = 12\n",
    "confidence = 0.9\n",
    "\n",
    "interval = st.norm.interval(confidence, loc=mean, scale=std_dev)\n",
    "print(interval)"
   ]
  },
  {
   "cell_type": "markdown",
   "id": "c259ed2e",
   "metadata": {},
   "source": [
    "This means that we can be 90% confident that the true population mean lies within the interval (51.99, 98.01) based on the sample data."
   ]
  },
  {
   "cell_type": "markdown",
   "id": "53705e29",
   "metadata": {},
   "source": [
    "### 6."
   ]
  },
  {
   "cell_type": "code",
   "execution_count": 30,
   "id": "464674e6",
   "metadata": {},
   "outputs": [
    {
     "data": {
      "image/png": "[encoded data removed]",
      "text/plain": [
       "<Figure size 640x480 with 1 Axes>"
      ]
     },
     "metadata": {},
     "output_type": "display_data"
    }
   ],
   "source": [
    "import numpy as np\n",
    "import matplotlib.pyplot as plt\n",
    "from scipy.stats import chi2\n",
    "\n",
    "df = 10\n",
    "\n",
    "x = np.linspace(chi2.ppf(0.001, df), chi2.ppf(0.999, df), 100)\n",
    "\n",
    "plt.plot(x, chi2.pdf(x, df), label='Chi-square PDF')\n",
    "\n",
    "y = np.linspace(chi2.ppf(0.01, df), 15, 100)\n",
    "plt.fill_between(y, chi2.pdf(y, df), color='blue', alpha = 0.2)\n",
    "\n",
    "plt.xlabel('x')\n",
    "plt.ylabel('Probability density')\n",
    "plt.title('Chi-square distribution with 10 degrees of freedom')\n",
    "\n",
    "plt.show()"
   ]
  },
  {
   "cell_type": "markdown",
   "id": "185509c6",
   "metadata": {},
   "source": [
    "### 7."
   ]
  },
  {
   "cell_type": "code",
   "execution_count": 31,
   "id": "f03ab605",
   "metadata": {},
   "outputs": [
    {
     "name": "stdout",
     "output_type": "stream",
     "text": [
      "(0.4793051576779699, 0.5606948423220302)\n"
     ]
    }
   ],
   "source": [
    "n = 1000\n",
    "p = 520/n\n",
    "se = (p*(1-p)/n)**0.5\n",
    "ci = stats.norm.interval(0.99, loc=p, scale=se)\n",
    "print(ci)"
   ]
  },
  {
   "cell_type": "markdown",
   "id": "215fa899",
   "metadata": {},
   "source": [
    "we are 99% confident that the true proportion of people in the population who prefer Coke is between 0.49 and 0.55."
   ]
  },
  {
   "cell_type": "markdown",
   "id": "585a0070",
   "metadata": {},
   "source": [
    "### 8.\n",
    "\n",
    "H0 = The coin is biased\n",
    "H1 = The coin is not biased\n",
    "\n",
    "E = 50 (Head & Tail equal)\n",
    "\n",
    "For Calculated Chi-Square Statistic:-\n",
    "\n",
    "χ² = (45 - 50)² / 50 + (55 - 50)² / 50 = 1\n",
    "\n",
    "DOF = 2-1 = 1\n",
    "\n",
    "P_Value = 0.05 (For a significance level of 0.05 and 1 degree of freedom, the critical value of the chi-square distribution is 3.84)\n",
    "\n",
    "Since our calculated chi-square statistic is 1, which is smaller than the critical value of 3.84, we fail to reject the null hypothesis.\n",
    "\n",
    "Since we failed to reject the null hypothesis, we conclude that there is not enough evidence to support the claim that the coin is biased toward tails. The observed frequencies do not differ significantly from the expected frequencies of a fair coin."
   ]
  },
  {
   "cell_type": "markdown",
   "id": "afed8b0f",
   "metadata": {},
   "source": [
    "### 9.\n",
    "\n",
    "First, we need to calculate the expected values for each cell in the contingency table. The formula for calculating the expected value for a cell is (row total * column total) / grand total. \n",
    "\n",
    "The grand total is the sum of all the values in the table, which is 60 + 140 + 30 + 170 = 400. The row totals are 60 + 140 = 200 for smokers and 30 + 170 = 200 for non-smokers. The column totals are 60 + 30 = 90 for lung cancer diagnosis yes and 140 + 170 = 310 for lung cancer diagnosis no.\n",
    "\n",
    "Using these values, we can calculate the expected values for each cell as follows:\n",
    "\n",
    "Smoker, Lung Cancer Yes: (200 * 90) / 400 = 45\n",
    "Smoker, Lung Cancer No: (200 * 310) / 400 = 155\n",
    "Non-Smoker, Lung Cancer Yes: (200 * 90) / 400 = 45\n",
    "Non-Smoker, Lung Cancer No: (200 * 310) / 400 = 155\n",
    "\n",
    "Next, we need to calculate the chi-square statistic using the formula Χ² = Σ[(O - E)² / E], where O is the observed value and E is the expected value. Plugging in the observed and expected values into this formula, we get:\n",
    "\n",
    "Χ² = ((60 - 45)² / 45) + ((140 - 155)² / 155) + ((30 - 45)² / 45) + ((170 - 155)² / 155) = (225/45) + (225/155) + (225/45) + (225/155) ≈ 3.84\n",
    "\n",
    "The degrees of freedom for this test is (number of rows -1)*(number of columns -1) which is (2-1)*(2-1)=1. Using a chi-square distribution table with 1 degree of freedom and a significance level of 0.05, we find that the critical value is 3.841. \n",
    "\n",
    "Since our calculated chi-square statistic of 3.84 is less than the critical value of 3.841, we fail to reject the null hypothesis. This means that there is not enough evidence to suggest that there is a significant association between smoking status and lung cancer diagnosis at a significance level of 0.05."
   ]
  },
  {
   "cell_type": "markdown",
   "id": "262d7c45",
   "metadata": {},
   "source": [
    "### 10.\n",
    "\n",
    "Here are the steps to conduct the chi-square test for independence:\n",
    "\n",
    "1. Calculate the expected values for each cell in the contingency table. The formula for the expected value of a cell is (row total * column total) / grand total.\n",
    "\n",
    "                Milk Chocolate\tDark Chocolate\tWhite Chocolate\tTotal\n",
    "U.S. (n=500)\t212.5\t        162.5\t        125\t            500\n",
    "U.K. (n=500)\t212.5\t        162.5\t        125          \t500\n",
    "\n",
    "Total\t        425\t            325\t            250\t            1000\n",
    "\n",
    "2. Now we can calculate the chi-square test statistic using the formula:\n",
    "\n",
    "χ² = ∑((O - E)² / E)\n",
    "\n",
    "where O is the observed frequency, E is the expected frequency, and the sum is taken over all categories.\n",
    "\n",
    "The degrees of freedom for the test are (r-1)(c-1), where r is the number of rows and c is the number of columns. In this case, there are 2 rows and 3 columns, so the degrees of freedom are (2-1)(3-1) = 2.\n",
    "\n",
    "Using a significance level of 0.01 and a chi-square distribution table, we find that the critical value of the test statistic is 11.345. If the calculated test statistic is greater than the critical value, we reject the null hypothesis.\n",
    "\n",
    "Calculating the test statistic:\n",
    "\n",
    "χ² = ((200-212.5)² / 212.5) + ((150-162.5)² / 162.5) + ((150-125)² / 125) + ((225-212.5)² / 212.5) + ((175-162.5)² / 162.5) + ((100-125)² / 125)\n",
    "= 6.25 + 6.25 + 6.25 + 6.25 + 6.25 + 6.25\n",
    "= 37.5\n",
    "\n",
    "The calculated test statistic (37.5) is greater than the critical value (11.345), so we reject the null hypothesis. This means that there is a significant association between chocolate preference and country of origin."
   ]
  },
  {
   "cell_type": "markdown",
   "id": "808193eb",
   "metadata": {},
   "source": [
    "### 11.\n",
    "\n",
    "1. Null hypothesis: The population mean is equal to 70 (μ = 70)\n",
    "2. Alternative hypothesis: The population mean is not equal to 70 (μ ≠ 70)\n",
    "\n",
    "3. Next, we need to calculate the test statistic. We can use a t-test since the population standard deviation is unknown and we have a sample size of less than 30.\n",
    "\n",
    "t = (sample mean - hypothesized population mean) / (sample standard deviation / sqrt(sample size))\n",
    "t = (72 - 70) / (10 / sqrt(30))\n",
    "t = 1.095\n",
    "\n",
    "4. DOF = (30-1) = 29 \n",
    "\n",
    "we can find the critical values using a t-distribution table or a calculator. For a two-tailed test, the critical values are ±2.045.\n",
    "\n",
    "Since our calculated t-value of 1.095 falls within the range of -2.045 to +2.045, we fail to reject the null hypothesis. We do not have enough evidence to conclude that the population mean is significantly different from 70 at a significance level of 0.05."
   ]
  },
  {
   "cell_type": "code",
   "execution_count": null,
   "id": "15091a04",
   "metadata": {},
   "outputs": [],
   "source": []
  },
  {
   "cell_type": "code",
   "execution_count": null,
   "id": "e6bed501",
   "metadata": {},
   "outputs": [],
   "source": []
  },
  {
   "cell_type": "code",
   "execution_count": null,
   "id": "855a079f",
   "metadata": {},
   "outputs": [],
   "source": []
  },
  {
   "cell_type": "code",
   "execution_count": null,
   "id": "b321d5ac",
   "metadata": {},
   "outputs": [],
   "source": []
  }
 ],
 "metadata": {
  "kernelspec": {
   "display_name": "Python 3 (ipykernel)",
   "language": "python",
   "name": "python3"
  },
  "language_info": {
   "codemirror_mode": {
    "name": "ipython",
    "version": 3
   },
   "file_extension": ".py",
   "mimetype": "text/x-python",
   "name": "python",
   "nbconvert_exporter": "python",
   "pygments_lexer": "ipython3",
   "version": "3.9.13"
  }
 },
 "nbformat": 4,
 "nbformat_minor": 5
}
