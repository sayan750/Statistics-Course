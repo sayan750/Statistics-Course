{
  "nbformat": 4,
  "nbformat_minor": 0,
  "metadata": {
    "colab": {
      "provenance": []
    },
    "kernelspec": {
      "name": "python3",
      "display_name": "Python 3"
    },
    "language_info": {
      "name": "python"
    }
  },
  "cells": [
    {
      "cell_type": "markdown",
      "source": [
        "Chi-Square\n",
        "\n",
        "**Chi-square is a statistical test used to determine if there is a significant difference between expected and observed frequencies in one or more categories. It is commonly used in hypothesis testing, where a researcher wants to determine if there is a significant association or relationship between two categorical variables.**\n",
        "\n",
        "The test involves comparing the observed frequencies to the expected frequencies, which are calculated based on the null hypothesis. The null hypothesis states that there is no significant difference between the observed and expected frequencies, and any difference is due to chance. The test calculates a chi-square statistic, which is then compared to a critical value from a chi-square distribution with degrees of freedom equal to the number of categories minus one.\n",
        "\n",
        "If the calculated chi-square statistic is greater than the critical value, the null hypothesis is rejected, and it is concluded that there is a significant difference between the observed and expected frequencies. On the other hand, if the calculated chi-square statistic is less than the critical value, the null hypothesis is not rejected, and it is concluded that there is no significant difference between the observed and expected frequencies.\n",
        "\n",
        "Chi-square is widely used in fields such as biology, social sciences, and business to test for significant differences in categorical data."
      ],
      "metadata": {
        "id": "4mYxQnkjjj0t"
      }
    },
    {
      "cell_type": "markdown",
      "source": [
        "![1_rGtwK5y2bxqYuhTR9nO2RA.png](data:image/png;base64,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)"
      ],
      "metadata": {
        "id": "3NnivPLakOgz"
      }
    },
    {
      "cell_type": "code",
      "execution_count": 2,
      "metadata": {
        "id": "2Y9QAuvaiN-C"
      },
      "outputs": [],
      "source": [
        "import scipy.stats as stat\n",
        "import numpy as np"
      ]
    },
    {
      "cell_type": "code",
      "source": [
        "## No of hours student study daily in a weekly basis\n",
        "\n",
        "exp_data=[8,6,7,9,6,9,7]\n",
        "obs_data=[7,8,6,9,9,6,7]"
      ],
      "metadata": {
        "id": "SBqX12Edi8SG"
      },
      "execution_count": 4,
      "outputs": []
    },
    {
      "cell_type": "code",
      "source": [
        "sum(exp_data), sum(obs_data)"
      ],
      "metadata": {
        "colab": {
          "base_uri": "https://localhost:8080/"
        },
        "id": "dRMgiKHskqIi",
        "outputId": "eb54e5cf-23e6-4711-df01-1f17fee732e8"
      },
      "execution_count": 5,
      "outputs": [
        {
          "output_type": "execute_result",
          "data": {
            "text/plain": [
              "(52, 52)"
            ]
          },
          "metadata": {},
          "execution_count": 5
        }
      ]
    },
    {
      "cell_type": "code",
      "source": [
        "## Chi-Square goodness of fit\n",
        "\n",
        "chisquare_test_statistics,p_value = stat.chisquare(exp_data,obs_data)"
      ],
      "metadata": {
        "id": "fkRZMOwck2cA"
      },
      "execution_count": 10,
      "outputs": []
    },
    {
      "cell_type": "code",
      "source": [
        "print(chisquare_test_statistics), print(p_value)"
      ],
      "metadata": {
        "colab": {
          "base_uri": "https://localhost:8080/"
        },
        "id": "XFJF3lw2m4n_",
        "outputId": "1f390ede-194e-4d58-d2dc-db6f588d8dfc"
      },
      "execution_count": 11,
      "outputs": [
        {
          "output_type": "stream",
          "name": "stdout",
          "text": [
            "3.3095238095238093\n",
            "0.769114675518927\n"
          ]
        },
        {
          "output_type": "execute_result",
          "data": {
            "text/plain": [
              "(None, None)"
            ]
          },
          "metadata": {},
          "execution_count": 11
        }
      ]
    },
    {
      "cell_type": "code",
      "source": [
        "## Find critical Value\n",
        "## dof stands degree of freedom\n",
        "\n",
        "significance=0.05\n",
        "dof = len(obs_data)-1\n",
        "critical_value = stat.chi2.ppf(1-significance,dof)"
      ],
      "metadata": {
        "id": "mcC0Bwr6m-3D"
      },
      "execution_count": 12,
      "outputs": []
    },
    {
      "cell_type": "code",
      "source": [
        "critical_value"
      ],
      "metadata": {
        "colab": {
          "base_uri": "https://localhost:8080/"
        },
        "id": "6CEzYgWSoXi6",
        "outputId": "c97477ff-3459-4e6d-c0ab-3203f2b1e8b0"
      },
      "execution_count": 13,
      "outputs": [
        {
          "output_type": "execute_result",
          "data": {
            "text/plain": [
              "12.591587243743977"
            ]
          },
          "metadata": {},
          "execution_count": 13
        }
      ]
    },
    {
      "cell_type": "code",
      "source": [
        "if chisquare_test_statistics > critical_value:\n",
        "  print(\"Reject the null hypothesis\")\n",
        "else:\n",
        "  print(\"Accept null hypothesis\")"
      ],
      "metadata": {
        "colab": {
          "base_uri": "https://localhost:8080/"
        },
        "id": "YoafGwrVoaSi",
        "outputId": "a1d1f6e4-52d3-45a5-a25c-abbf80babf28"
      },
      "execution_count": 14,
      "outputs": [
        {
          "output_type": "stream",
          "name": "stdout",
          "text": [
            "Accept null hypothesis\n"
          ]
        }
      ]
    },
    {
      "cell_type": "code",
      "source": [],
      "metadata": {
        "id": "Z9lauqLqo2la"
      },
      "execution_count": null,
      "outputs": []
    }
  ]
}