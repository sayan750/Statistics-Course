{
 "cells": [
  {
   "cell_type": "markdown",
   "id": "aca5c90f",
   "metadata": {},
   "source": [
    "### 1.\n",
    "\n",
    "**Estimation statistics refers to the process of estimating a population parameter (such as the mean, variance, or proportion) based on a sample of data.**\n",
    "\n",
    "**Point Parameter:- A point estimate is a single value that is used to estimate a population parameter. For example, if we want to estimate the mean height of all people in a certain country, we might take a sample of 100 people and calculate the sample mean height, which would be our point estimate of the population mean height.**\n",
    "\n",
    "**Interval Estimate:- An interval estimate, on the other hand, provides a range of values that is likely to contain the true population parameter with a certain level of confidence. For example, we might calculate a 95% confidence interval for the population mean height based on our sample data. This interval would provide us with a range of values that we can be 95% confident contains the true population mean height.**"
   ]
  },
  {
   "cell_type": "markdown",
   "id": "519393d8",
   "metadata": {},
   "source": [
    "### 2."
   ]
  },
  {
   "cell_type": "code",
   "execution_count": 1,
   "id": "06e6c876",
   "metadata": {},
   "outputs": [
    {
     "name": "stdout",
     "output_type": "stream",
     "text": [
      "10.2\n"
     ]
    }
   ],
   "source": [
    "def estimate_population(sample_mean, sample_std_deviation, sample_size):\n",
    "    import math\n",
    "    return sample_mean + (sample_std_deviation / math.sqrt(sample_size))\n",
    "\n",
    "sample_mean = 10\n",
    "sample_std_deviation = 2\n",
    "sample_size = 100\n",
    "\n",
    "popu_esti = estimate_population(sample_mean, sample_std_deviation, sample_size)\n",
    "\n",
    "print(popu_esti)"
   ]
  },
  {
   "cell_type": "markdown",
   "id": "1df2ce23",
   "metadata": {},
   "source": [
    "### 3.\n",
    "\n",
    "**Hypothesis testing is a statistical method used to evaluate whether a statement or hypothesis about a population parameter is likely to be true. The goal of hypothesis testing is to determine the statistical significance of the difference between the observed data and the expected values under a particular hypothesis.**\n",
    "\n",
    "**Hypothesis testing is used in many fields of study, including medicine, psychology, economics, engineering, and more. It is used to test hypotheses about the effectiveness of treatments, the validity of models, the accuracy of predictions, and the significance of observed differences or relationships between variables.**\n",
    "\n",
    "**The importance of hypothesis testing:-**\n",
    "\n",
    "1. The importance of hypothesis testing lies in its ability to help researchers draw meaningful conclusions about the population from a limited amount of sample data.\n",
    "\n",
    "2. Hypothesis testing also helps researchers avoid making incorrect conclusions based on random or coincidental findings."
   ]
  },
  {
   "cell_type": "markdown",
   "id": "806365f0",
   "metadata": {},
   "source": [
    "### 4.\n",
    "\n",
    "**To create a hypothesis that states whether the average weight of male college students is greater than the average weight of female college students, you can use the following steps:-**\n",
    "\n",
    "1. Define the null hypothesis: The null hypothesis states that there is no significant difference between the average weight of male and female college students.\n",
    "\n",
    "2. Define the alternative hypothesis: The alternative hypothesis states that there is a significant difference between the average weight of male and female college students.\n",
    "\n",
    "3. Collect data: Collect data on the weights of male and female college students.\n",
    "\n",
    "4. Analyze data: Use statistical methods to analyze the data and determine whether there is a significant difference between the average weight of male and female college students.\n",
    "\n",
    "5. Draw conclusions: Based on the results of your analysis, you can either reject or fail to reject the null hypothesis.\n",
    "\n",
    "**If I reject the null hypothesis, it means that there is a significant difference between the average weight of male and female college students. If you fail to reject the null hypothesis, it means that there is no significant difference between the average weight of male and female college students.**"
   ]
  },
  {
   "cell_type": "markdown",
   "id": "a07277a1",
   "metadata": {},
   "source": [
    "### 5."
   ]
  },
  {
   "cell_type": "code",
   "execution_count": 3,
   "id": "8adccc27",
   "metadata": {},
   "outputs": [
    {
     "data": {
      "text/plain": [
       "Ttest_indResult(statistic=-2.10090292575557, pvalue=0.04633501389516513)"
      ]
     },
     "execution_count": 3,
     "metadata": {},
     "output_type": "execute_result"
    }
   ],
   "source": [
    "import scipy.stats as stats \n",
    "\n",
    "sample1 = [300, 315, 320, 311, 314, 309, 300, 308, 305, 303, 305, 301, 303]\n",
    "sample2 = [335, 329, 322, 321, 324, 319, 304, 308, 305, 311, 307, 300, 305]\n",
    "\n",
    "stats.ttest_ind(a=sample1, b=sample2)"
   ]
  },
  {
   "cell_type": "markdown",
   "id": "1072b3b3",
   "metadata": {},
   "source": [
    "### 6.\n",
    "\n",
    "**In statistics, the null hypothesis (H0) is a statement that assumes there is no significant relationship between two variables or that there is no effect of a particular intervention. The alternative hypothesis (H1 or HA) is a statement that contradicts the null hypothesis and suggests that there is a significant relationship or effect.**\n",
    "\n",
    "**For example, let's say you want to test whether a new drug is effective in treating a disease. The null hypothesis would be that the drug has no effect on the disease, while the alternative hypothesis would be that the drug does have an effect.**"
   ]
  },
  {
   "cell_type": "markdown",
   "id": "b854a1ca",
   "metadata": {},
   "source": [
    "### 7.\n",
    "\n",
    "**Hypothesis testing is a statistical method used to make inferences about a population based on a sample data set. The general steps involved in hypothesis testing are as follows:-**\n",
    "\n",
    "1. State the null hypothesis: The null hypothesis is the default position that there is no relationship or difference between the variables of interest. It is denoted as H0.\n",
    "\n",
    "2. State the alternative hypothesis: The alternative hypothesis is the hypothesis that we are trying to prove, which suggests that there is a relationship or difference between the variables of interest. It is denoted as Ha.\n",
    "\n",
    "3. Determine the level of significance: The level of significance is the maximum probability of making a Type I error (rejecting a true null hypothesis). It is typically set at 0.05 (5%).\n",
    "\n",
    "4. Choose a statistical test: The choice of statistical test depends on the nature of the data and the research question being investigated.\n",
    "\n",
    "5. Collect the data: Collect a sample of data that is representative of the population of interest.\n",
    "\n",
    "6. Calculate the test statistic: The test statistic is a numerical value that measures the difference between the sample data and the null hypothesis.\n",
    "\n",
    "7. Determine the p-value: The p-value is the probability of obtaining a test statistic as extreme or more extreme than the one observed, assuming that the null hypothesis is true.\n",
    "\n",
    "8. Make a decision: If the p-value is less than the level of significance, reject the null hypothesis in favor of the alternative hypothesis. If the p-value is greater than the level of significance, fail to reject the null hypothesis.\n",
    "\n",
    "9. Interpret the results: Interpret the results of the hypothesis test in the context of the research question being investigated.\n",
    "\n",
    "10. Draw conclusions: Draw conclusions based on the results of the hypothesis test and determine the implications for future research or decision-making."
   ]
  },
  {
   "cell_type": "markdown",
   "id": "8b6967c9",
   "metadata": {},
   "source": [
    "### 8.\n",
    "\n",
    "**A p-value is a statistical measurement used to validate a hypothesis against observed data. A p-value measures the probability of obtaining the observed results, assuming that the null hypothesis is true.**"
   ]
  },
  {
   "cell_type": "markdown",
   "id": "ed432520",
   "metadata": {},
   "source": [
    "### 9."
   ]
  },
  {
   "cell_type": "code",
   "execution_count": 7,
   "id": "da292133",
   "metadata": {},
   "outputs": [
    {
     "data": {
      "image/png": "[encoded data removed]",
      "text/plain": [
       "<Figure size 640x480 with 1 Axes>"
      ]
     },
     "metadata": {},
     "output_type": "display_data"
    }
   ],
   "source": [
    "import numpy as np\n",
    "import matplotlib.pyplot as plt\n",
    "\n",
    "df = 10\n",
    "s = np.random.standard_t(df, size=1000)\n",
    "plt.hist(s, bins=100, density=True)\n",
    "plt.show()"
   ]
  },
  {
   "cell_type": "markdown",
   "id": "a982324d",
   "metadata": {},
   "source": [
    "### 10."
   ]
  },
  {
   "cell_type": "code",
   "execution_count": 8,
   "id": "e36f192d",
   "metadata": {},
   "outputs": [
    {
     "name": "stdout",
     "output_type": "stream",
     "text": [
      "t-statistic: -8.461229497251049\n",
      "p-value: 5.820533597737365e-15\n"
     ]
    }
   ],
   "source": [
    "import numpy as np\n",
    "from scipy.stats import ttest_ind\n",
    "\n",
    "sample1 = np.random.normal(0, 1, 100)\n",
    "sample2 = np.random.normal(1, 1, 100)\n",
    "\n",
    "t_statistic, p_value = ttest_ind(sample1, sample2)\n",
    "\n",
    "print(\"t-statistic:\", t_statistic)\n",
    "print(\"p-value:\", p_value)"
   ]
  },
  {
   "cell_type": "markdown",
   "id": "2f1f0b3b",
   "metadata": {},
   "source": [
    "### 11.\n",
    "\n",
    "The Student’s t-distribution or t-distribution is a probability distribution that is used to calculate population parameters when the sample size is small and when the population variance is unknown1. It is a family of distributions that look almost identical to the normal distribution curve, only a bit shorter. The t distribution is used instead of the normal distribution when you have small samples2.\n",
    "\n",
    "The t-distribution plays a role in a number of widely used statistical analyses, including Student’s t-test for assessing the statistical significance of the difference between two sample means3. The t-distribution was developed by English statistician William Sealy Gosset under the pseudonym \"Student\"3."
   ]
  },
  {
   "cell_type": "markdown",
   "id": "9014655a",
   "metadata": {},
   "source": [
    "### 12.\n",
    "\n",
    "**The T Statistic is used in a T test when you are deciding if you should support or reject the null hypothesis. It’s very similar to a Z-score.**\n",
    "\n",
    "Formula of T-Statistics is - X̄-μ/s÷√n"
   ]
  },
  {
   "cell_type": "markdown",
   "id": "63363bc0",
   "metadata": {},
   "source": [
    "### 13.\n",
    "\n",
    "The formula for calculating the confidence interval for a population mean is:\n",
    "\n",
    "CI = X ± Z * (s / √n)\n",
    "\n",
    "Where:\n",
    "\n",
    "1. X is the sample mean revenue which is $500\n",
    "\n",
    "2. s is the sample standard deviation which is $50\n",
    "\n",
    "3. n is the sample size which is 50\n",
    "\n",
    "4. Z* is the critical value of the z distribution for a 95% confidence level which is 1.96.\n",
    "\n",
    "Substituting these values in the formula, we get:\n",
    "\n",
    "CI = 500 ± 1.96 * (50 / √50)\n",
    "\n",
    "CI = 500 ± 13.82\n",
    "\n",
    "Therefore, we can say with 95% confidence that the population mean revenue lies between $486.18 & $513.82."
   ]
  },
  {
   "cell_type": "markdown",
   "id": "77dadec9",
   "metadata": {},
   "source": [
    "### 14.\n",
    "\n",
    "**To test the hypothesis that the new drug will decrease blood pressure by 10 mmHg with a significance level of 0.05, we can perform a one-sample t-test.**\n",
    "\n",
    "h0 = 10 mmHg\n",
    "\n",
    "h1 ≠ 10 mmHg\n",
    "\n",
    "one-sample test :-\n",
    "\n",
    "t = (x̄ - μ) / (s / √n)\n",
    "\n",
    "1. where x̄ is the sample mean\n",
    "2. μ is the hypothesized population mean\n",
    "3. s is the sample standard deviation\n",
    "4. n is the sample size.\n",
    "\n",
    "For clinical sample we get:-\n",
    "\n",
    "t = (8 - 10) / (3 / √100) = -6.67\n",
    "\n",
    "degrees of freedom for this test are:-\n",
    "\n",
    "n - 1 = 100 - 1 = 99\n",
    "\n",
    "we find that the critical value for a two-tailed test with a significance level of 0.05 is approximately ±1.984.  Since our calculated t-value of -6.67 is less than the critical value of -1.984, we reject the null hypothesis and conclude that there is evidence to suggest that the true mean decrease in blood pressure is not equal to 10 mmHg."
   ]
  },
  {
   "cell_type": "markdown",
   "id": "2718259f",
   "metadata": {},
   "source": [
    "### 15.\n",
    "\n",
    "This is a one-sample t-test for the mean. The null hypothesis is that the true mean weight of the products is equal to 5 pounds, and the alternative hypothesis is that the true mean weight is less than 5 pounds.\n",
    "\n",
    "h0 = 5 pounds\n",
    "\n",
    "h1 ≠ 5 pounds\n",
    "\n",
    "one-sample test :-\n",
    "\n",
    "t = (x̄ - μ) / (s / √n)\n",
    "\n",
    "1. where x̄ is the sample mean\n",
    "2. μ is the hypothesized population mean\n",
    "3. s is the sample standard deviation\n",
    "4. n is the sample size.\n",
    "\n",
    "Substituting the given values into the formula we get:-\n",
    "\n",
    "t = (4.8 - 5) / (0.5 / √25) = -2\n",
    "\n",
    "degrees of freedom for this test are:-\n",
    "\n",
    "n - 1 = 25 - 1 = 24\n",
    "\n",
    "Using a t-distribution table or calculator with 24 degrees of freedom and a significance level of 0.01, we find that the critical value for a one-tailed test is approximately -2.492. Since our calculated test statistic of -2 is greater than the critical value of -2.492, we do not have sufficient evidence to reject the null hypothesis. Therefore, we cannot conclude that the true mean weight of the products is less than 5 pounds at a significance level of 0.01."
   ]
  },
  {
   "cell_type": "markdown",
   "id": "fb93c250",
   "metadata": {},
   "source": [
    "### 16.\n",
    "\n",
    "To test whether the population means for the two groups are equal, we can use a two-sample t-test.\n",
    "\n",
    "h0 = two groups\n",
    "\n",
    "h1 ≠ two groups\n",
    "\n",
    "x̄1 = 80, s1 = 10, n1 = 30\n",
    "\n",
    "x̄2 = 75, s2 = 8, n2 = 40\n",
    "\n",
    "The test statistic for the two-sample t-test is:\n",
    "\n",
    "t = (x̄1 - x̄2) / [s * sqrt(1/n1 + 1/n2)]\n",
    "\n",
    "1. where x̄1 and x̄2 are the sample means\n",
    "2. n1 and n2 are the sample sizes\n",
    "3. s is the pooled standard deviation\n",
    "\n",
    "which is calculated as:\n",
    "\n",
    "s = sqrt(((n1-1)*s1^2 + (n2-1)*s2^2) / (n1+n2-2)) ## where s1 and s2 are the sample standard deviations.\n",
    "  \n",
    "s = sqrt(((30-1)*10^2 + (40-1)*8^2) / (30+40-2))\n",
    "  \n",
    "s = 9.27\n",
    "\n",
    "t = (80 - 75) / [9.27 * sqrt(1/30 + 1/40)]\n",
    "\n",
    "t = 2.58\n",
    "\n",
    "Degrees of Freedom:-\n",
    "\n",
    "n1 + n2 - 2 = 30 + 40 - 2 = 68\n",
    "\n",
    "The critical value for a two-tailed t-test with 68 degrees of freedom and a significance level of 0.005 is ±2.660.\n",
    "\n",
    "Since the calculated t-value of 2.58 is less than the critical value of 2.660, we fail to reject the null hypothesis. Therefore, there is not enough evidence to suggest that the population means for the two groups are different at a significance level of 0.01."
   ]
  },
  {
   "cell_type": "markdown",
   "id": "8868325d",
   "metadata": {},
   "source": [
    "### 17.\n",
    "\n",
    "To estimate the population mean with a 99% confidence interval, we can use the t-distribution since the sample size is less than 30.\n",
    "\n",
    "First, we need to calculate the standard error of the mean, which is:\n",
    "\n",
    "standard error = standard deviation / sqrt(sample size)\n",
    "standard error = 1.5 / sqrt(50)\n",
    "standard error = 0.2121\n",
    "\n",
    "Next, we can find the t-value for a 99% confidence interval with 49 degrees of freedom (50 - 1), using a t-distribution table or calculator. The t-value is approximately 2.68.\n",
    "\n",
    "Finally, we can calculate the confidence interval using the formula:\n",
    "\n",
    "confidence interval = sample mean ± (t-value * standard error)\n",
    "\n",
    "Plugging in the values, we get:\n",
    "\n",
    "confidence interval = 4 ± (2.68 * 0.2121)\n",
    "confidence interval = 4 ± 0.568\n",
    "\n",
    "Therefore, the 99% confidence interval for the population mean is (3.432, 4.568).\n",
    "\n",
    "We can say with 99% confidence that the true average number of ads watched by viewers during a TV program falls between 3.432 and 4.568."
   ]
  },
  {
   "cell_type": "code",
   "execution_count": null,
   "id": "8d453fe7",
   "metadata": {},
   "outputs": [],
   "source": []
  },
  {
   "cell_type": "code",
   "execution_count": null,
   "id": "3a713343",
   "metadata": {},
   "outputs": [],
   "source": []
  }
 ],
 "metadata": {
  "kernelspec": {
   "display_name": "Python 3 (ipykernel)",
   "language": "python",
   "name": "python3"
  },
  "language_info": {
   "codemirror_mode": {
    "name": "ipython",
    "version": 3
   },
   "file_extension": ".py",
   "mimetype": "text/x-python",
   "name": "python",
   "nbconvert_exporter": "python",
   "pygments_lexer": "ipython3",
   "version": "3.9.13"
  }
 },
 "nbformat": 4,
 "nbformat_minor": 5
}
