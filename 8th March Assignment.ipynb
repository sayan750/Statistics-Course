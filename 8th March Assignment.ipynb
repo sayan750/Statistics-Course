{
 "cells": [
  {
   "cell_type": "markdown",
   "id": "bfc9e1e6",
   "metadata": {},
   "source": [
    "### 1.\n",
    "\n",
    "**In probability theory, a probability density function (PDF) is a function that describes the relative likelihood of a random variable taking on a certain value. Specifically, the PDF gives the probability that the random variable falls within a particular range of values, as opposed to taking on a specific value. The integral of the PDF over the entire range of possible values of the random variable is equal to 1.**"
   ]
  },
  {
   "cell_type": "markdown",
   "id": "e9619d7f",
   "metadata": {},
   "source": [
    "### 2.\n",
    "\n",
    "**There are several types of probability distributions, each with its own characteristics and uses in various fields. Some of the most common probability distributions are:**\n",
    "\n",
    "1. Normal Distribution: This is a continuous probability distribution that is symmetrical and bell-shaped. It is commonly used to model random variables that are naturally distributed around a mean.\n",
    "\n",
    "2. Binomial Distribution: This is a discrete probability distribution that represents the number of successes in a fixed number of independent trials. It is commonly used to model experiments with two possible outcomes, such as flipping a coin.\n",
    "\n",
    "3. Poisson Distribution: This is a discrete probability distribution that models the probability of a certain number of events occurring in a fixed interval of time or space. It is commonly used to model rare events, such as the number of accidents on a highway in a given day."
   ]
  },
  {
   "cell_type": "markdown",
   "id": "5a4fb34f",
   "metadata": {},
   "source": [
    "### 3."
   ]
  },
  {
   "cell_type": "code",
   "execution_count": 2,
   "id": "01f2892d",
   "metadata": {},
   "outputs": [
    {
     "name": "stdout",
     "output_type": "stream",
     "text": [
      "0.17603266338214976\n"
     ]
    }
   ],
   "source": [
    "from scipy.stats import norm\n",
    "\n",
    "def normal_pdf(mean, std_dev, x):\n",
    "    return norm.pdf(x, mean, std_dev)\n",
    "\n",
    "mean = 5\n",
    "std_dev = 2\n",
    "x = 6\n",
    "\n",
    "pdf = normal_pdf(mean, std_dev, x)\n",
    "print(pdf) "
   ]
  },
  {
   "cell_type": "markdown",
   "id": "0789fb13",
   "metadata": {},
   "source": [
    "### 4.\n",
    "\n",
    "**The properties of the Binomial distribution are:**\n",
    "\n",
    "1. The trials are independent of each other.\n",
    "2. There are only two possible outcomes, either success or failure.\n",
    "3. The probability of success is constant for each trial.\n",
    "4. The number of trials is fixed.\n",
    "5. The random variable is the number of successes.\n",
    "\n",
    "**Two examples of events where binomial distribution can be applied: coin tosses, medical trial.**"
   ]
  },
  {
   "cell_type": "markdown",
   "id": "645a8bcc",
   "metadata": {},
   "source": [
    "### 5."
   ]
  },
  {
   "cell_type": "code",
   "execution_count": 3,
   "id": "6a9b4f97",
   "metadata": {},
   "outputs": [
    {
     "data": {
      "image/png": "[encoded data removed]",
      "text/plain": [
       "<Figure size 640x480 with 1 Axes>"
      ]
     },
     "metadata": {},
     "output_type": "display_data"
    }
   ],
   "source": [
    "import numpy as np\n",
    "import matplotlib.pyplot as plt\n",
    "\n",
    "n = 1000\n",
    "p = 0.4\n",
    "\n",
    "sample = np.random.binomial(n, p, size=n)\n",
    "\n",
    "plt.hist(sample, bins=50)\n",
    "plt.xlabel('Number of successes')\n",
    "plt.ylabel('Frequency')\n",
    "plt.title(f'Binomial Distribution with n={n}, p={p}')\n",
    "plt.show()"
   ]
  },
  {
   "cell_type": "markdown",
   "id": "53e6ab62",
   "metadata": {},
   "source": [
    "### 6."
   ]
  },
  {
   "cell_type": "code",
   "execution_count": 6,
   "id": "8539a23b",
   "metadata": {},
   "outputs": [
    {
     "data": {
      "text/plain": [
       "0.42319008112684353"
      ]
     },
     "execution_count": 6,
     "metadata": {},
     "output_type": "execute_result"
    }
   ],
   "source": [
    "import math\n",
    "\n",
    "def poisson_cdf(mean, k):\n",
    "    cdf = 0.0\n",
    "    for i in range(k + 1):\n",
    "        cdf += math.exp(-mean) * mean**i / math.factorial(i)\n",
    "    return cdf\n",
    "\n",
    "poisson_cdf(3, 2)"
   ]
  },
  {
   "cell_type": "markdown",
   "id": "f3b050d9",
   "metadata": {},
   "source": [
    "### 7.\n",
    "\n",
    "**Binomial and Poisson distributions are both probability distributions commonly used in statistical analysis. However, they differ in terms of their assumptions and characteristics.**\n",
    "\n",
    "**The probability mass function (PMF) of the binomial distribution is given by:-**\n",
    "\n",
    "1. P(X=k) = (n choose k) * p^k * (1-p)^(n-k)\n",
    "\n",
    "**The probability mass function (PMF) of the Poisson distribution is given by:-**\n",
    "\n",
    "1. P(X=k) = (e^(-λ) * λ^k) / k!"
   ]
  },
  {
   "cell_type": "markdown",
   "id": "d791ffcc",
   "metadata": {},
   "source": [
    "### 8."
   ]
  },
  {
   "cell_type": "code",
   "execution_count": 10,
   "id": "768c5f5b",
   "metadata": {},
   "outputs": [],
   "source": [
    "import numpy as np\n",
    "\n",
    "sample = np.random.poisson(lam=5, size=1000)\n",
    "\n",
    "sample_mean = np.mean(sample)\n",
    "sample_variance = np.var(sample)"
   ]
  },
  {
   "cell_type": "code",
   "execution_count": 11,
   "id": "eca392eb",
   "metadata": {},
   "outputs": [
    {
     "name": "stdout",
     "output_type": "stream",
     "text": [
      "Sample mean: 4.919\n",
      "Sample variance: 5.030439\n"
     ]
    }
   ],
   "source": [
    "print(\"Sample mean:\", sample_mean)\n",
    "print(\"Sample variance:\", sample_variance)"
   ]
  },
  {
   "cell_type": "markdown",
   "id": "68cb5bb7",
   "metadata": {},
   "source": [
    "### 9.\n",
    "\n",
    "The Binomial distribution and Poisson distribution are related to each other through their mean and variance.\n",
    "\n",
    "For a Binomial distribution, the mean is given by:\n",
    "\n",
    "μ = np\n",
    "\n",
    "where n is the number of trials and p is the probability of success on each trial.\n",
    "\n",
    "The variance of a Binomial distribution is given by:\n",
    "\n",
    "σ^2 = np(1-p)\n",
    "\n",
    "For a Poisson distribution, the mean is also given by:\n",
    "\n",
    "μ = λ\n",
    "\n",
    "where λ is the average number of events in the given time or space interval.\n",
    "\n",
    "The variance of a Poisson distribution is also given by:\n",
    "\n",
    "σ^2 = λ"
   ]
  },
  {
   "cell_type": "markdown",
   "id": "e9dd7c5b",
   "metadata": {},
   "source": [
    "### 10.\n",
    "\n",
    "**In a normal distribution, the least frequent data points appear in the tails of the distribution, which are the regions that are farthest away from the mean.**"
   ]
  },
  {
   "cell_type": "code",
   "execution_count": null,
   "id": "33d81240",
   "metadata": {},
   "outputs": [],
   "source": []
  },
  {
   "cell_type": "code",
   "execution_count": null,
   "id": "bc19cacd",
   "metadata": {},
   "outputs": [],
   "source": []
  },
  {
   "cell_type": "code",
   "execution_count": null,
   "id": "a3cac06e",
   "metadata": {},
   "outputs": [],
   "source": []
  },
  {
   "cell_type": "code",
   "execution_count": null,
   "id": "3d202899",
   "metadata": {},
   "outputs": [],
   "source": []
  }
 ],
 "metadata": {
  "kernelspec": {
   "display_name": "Python 3 (ipykernel)",
   "language": "python",
   "name": "python3"
  },
  "language_info": {
   "codemirror_mode": {
    "name": "ipython",
    "version": 3
   },
   "file_extension": ".py",
   "mimetype": "text/x-python",
   "name": "python",
   "nbconvert_exporter": "python",
   "pygments_lexer": "ipython3",
   "version": "3.9.13"
  }
 },
 "nbformat": 4,
 "nbformat_minor": 5
}
