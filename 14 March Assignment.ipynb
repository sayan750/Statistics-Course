{
 "cells": [
  {
   "cell_type": "markdown",
   "id": "df03e01f",
   "metadata": {},
   "source": [
    "### 1."
   ]
  },
  {
   "cell_type": "code",
   "execution_count": 5,
   "id": "1840d088",
   "metadata": {},
   "outputs": [],
   "source": [
    "import numpy as np\n",
    "from scipy.stats import f\n",
    "\n",
    "def variance_ratio_test(x, y):\n",
    "    \n",
    "    n = len(x)\n",
    "    m = len(y)\n",
    "    var_x = np.var(x, ddof=1)\n",
    "    var_y = np.var(y, ddof=1)\n",
    "    \n",
    "    if var_x > var_y:\n",
    "        f_stat = var_x / var_y\n",
    "    else:\n",
    "        f_stat = var_y / var_x\n",
    "    \n",
    "    dfn = n - 1\n",
    "    dfd = m - 1\n",
    "    \n",
    "    p_val = 1 - f.cdf(f_stat, dfn, dfd)\n",
    "    \n",
    "    return f_stat, p_val"
   ]
  },
  {
   "cell_type": "markdown",
   "id": "b2e8deaa",
   "metadata": {},
   "source": [
    "### 2."
   ]
  },
  {
   "cell_type": "code",
   "execution_count": 6,
   "id": "b19960b8",
   "metadata": {},
   "outputs": [],
   "source": [
    "import scipy.stats as stats\n",
    "\n",
    "def critical_f_value(dfn, dfd, alpha=0.05):\n",
    "    return stats.f.ppf(alpha/2, dfn, dfd), stats.f.ppf(1-alpha/2, dfn, dfd)"
   ]
  },
  {
   "cell_type": "code",
   "execution_count": 7,
   "id": "140cb6d8",
   "metadata": {},
   "outputs": [
    {
     "data": {
      "text/plain": [
       "(0.4590392533314216, 2.340832500533084)"
      ]
     },
     "execution_count": 7,
     "metadata": {},
     "output_type": "execute_result"
    }
   ],
   "source": [
    "critical_f_value(31, 20)"
   ]
  },
  {
   "cell_type": "markdown",
   "id": "951fb08e",
   "metadata": {},
   "source": [
    "### 3."
   ]
  },
  {
   "cell_type": "code",
   "execution_count": 9,
   "id": "99096182",
   "metadata": {},
   "outputs": [
    {
     "name": "stdout",
     "output_type": "stream",
     "text": [
      "F-value: 0.2850886345984314\n",
      "Degrees of freedom: 49 , 49\n",
      "p-value: 1.123844379478369e-05\n"
     ]
    }
   ],
   "source": [
    "import numpy as np\n",
    "from scipy.stats import f\n",
    "\n",
    "np.random.seed(42)\n",
    "\n",
    "n1 = 50 \n",
    "n2 = 50\n",
    "mu1 = 0\n",
    "mu2 = 0\n",
    "sigma1 = 1 \n",
    "sigma2 = 2 \n",
    "sample1 = np.random.normal(mu1, sigma1, n1)\n",
    "sample2 = np.random.normal(mu2, sigma2, n2)\n",
    "\n",
    "F = np.var(sample1, ddof=1) / np.var(sample2, ddof=1)\n",
    "df1 = n1 - 1\n",
    "df2 = n2 - 1\n",
    "p_value = f.cdf(F, df1, df2)\n",
    "\n",
    "print(\"F-value:\", F)\n",
    "print(\"Degrees of freedom:\", df1, \",\", df2)\n",
    "print(\"p-value:\", p_value)"
   ]
  },
  {
   "cell_type": "markdown",
   "id": "1d2fef7d",
   "metadata": {},
   "source": [
    "### 4.\n",
    "\n",
    "The null hypothesis(H0) is that the variances of the two populations are equal\n",
    "\n",
    "The alternative hypothesis(H1) is that they are not equal.\n",
    "\n",
    "Using this pooled variance, we can calculate the F-statistic:\n",
    "\n",
    "F = 15/10 = 1.5\n",
    "\n",
    "The degrees of freedom for the numerator and denominator are 12-1 = 11 and 12-1 = 11 respectively. Using an F-distribution table or calculator, we can find the critical value for a two-tailed test at the 5% significance level to be approximately 2.82.\n",
    "\n",
    "Since our calculated test statistic of 1.5 is less than the critical value of 2.82, we do not have sufficient evidence to reject the null hypothesis that the variances are equal. Therefore, we cannot conclude that the variances are significantly different at the 5% significance level."
   ]
  },
  {
   "cell_type": "markdown",
   "id": "49f88414",
   "metadata": {},
   "source": [
    "### 5.\n",
    "\n",
    "Null Hypothesis(H0): The variance of the diameter of the product is 0.005.\n",
    "\n",
    "Alternative Hypothesis(H1): The variance of the diameter of the product is greater than 0.005.\n",
    "\n",
    "We will use the F-statistic to test:- \n",
    "\n",
    "F = 0.006 / 0.005 = 1.2\n",
    "\n",
    "To determine if the claim is justified, we need to compare the calculated F-value with the critical F-value from the F-distribution table at the 1% significance level. For this problem, we have a one-tailed test because the alternative hypothesis is one-sided.\n",
    "\n",
    "From the F-distribution table, with degrees of freedom (df) for numerator = 24 and degrees of freedom for denominator = 24 (df=24, 24), the critical F-value for a one-tailed test at 1% significance level is 2.481.\n",
    "\n",
    "Since our calculated F-value of 1.2 is less than the critical F-value of 2.481, we fail to reject the null hypothesis that the variance of the diameter of the product is 0.005.\n",
    "\n",
    "Therefore, we can conclude that there is not enough evidence to support the manufacturer's claim that the variance of the diameter of the product is greater than 0.005."
   ]
  },
  {
   "cell_type": "markdown",
   "id": "0b101aa8",
   "metadata": {},
   "source": [
    "### 6."
   ]
  },
  {
   "cell_type": "code",
   "execution_count": 11,
   "id": "943e8db8",
   "metadata": {},
   "outputs": [],
   "source": [
    "import numpy as np\n",
    "from scipy.stats import chi2\n",
    "\n",
    "def DOF(numerator_df, denominator_df):\n",
    "    mean = denominator_df / (denominator_df - 2.0)\n",
    "    variance = (2 * denominator_df**2 * (numerator_df + denominator_df - 2)) / (numerator_df * (denominator_df - 2)**2 * (denominator_df - 4))\n",
    "    return (mean, variance)"
   ]
  },
  {
   "cell_type": "markdown",
   "id": "eb626605",
   "metadata": {},
   "source": [
    "### 7.\n",
    "\n",
    "**We can conduct the F-test at the 10% significance level as follows:-**\n",
    "\n",
    "The null hypothesis(H0): F-test is that the variances are equal.\n",
    "\n",
    "The alternative hypothesis(H1): the variances are not equal.\n",
    "\n",
    "Step 1:\n",
    "\n",
    "Calculate the F-statistic:- F = 25 / 20 = 1.25\n",
    "\n",
    "Step 2: \n",
    "\n",
    "Calculate the critical value:- The critical value for the F-test with 9 and 14 degrees of freedom (10 - 1 and 15 - 1, respectively) at the 10% significance level is obtained from an F-distribution table or calculator. Using the table, the critical value is found to be 2.57.\n",
    "\n",
    "Step 3: \n",
    "\n",
    "Compare the F-statistic and critical value:- If the F-statistic is greater than the critical value, we reject the null hypothesis and conclude that the variances are significantly different. If the F-statistic is less than or equal to the critical value, we fail to reject the null hypothesis."
   ]
  },
  {
   "cell_type": "markdown",
   "id": "5e3dd815",
   "metadata": {},
   "source": [
    "### 8.\n",
    "\n",
    "The null hypothesis(H0) states that the variances are equal\n",
    "\n",
    "The alternative hypothesis(H1) states that they are not equal.\n",
    "\n",
    "We can use the formula for the F-statistic:\n",
    "\n",
    "F = s1^2 / s2^2\n",
    "\n",
    "where s1^2 is the sample variance of Restaurant A, and s2^2 is the sample variance of Restaurant B.\n",
    "\n",
    "First, let's first calculate the sample variances:\n",
    "\n",
    "s1^2 = ((24-25.14)^2 + (25-25.14)^2 + (28-25.14)^2 + (23-25.14)^2 + (22-25.14)^2 + (20-25.14)^2 + (27-25.14)^2) / 6\n",
    "s1^2 = 8.2857\n",
    "\n",
    "s2^2 = ((31-32.83)^2 + (33-32.83)^2 + (35-32.83)^2 + (30-32.83)^2 + (32-32.83)^2 + (36-32.83)^2) / 5\n",
    "s2^2 = 6.9525\n",
    "\n",
    "Next, let's calculate the F-statistic:\n",
    "\n",
    "F = s1^2 / s2^2\n",
    "F = 8.2857 / 6.9525\n",
    "F = 1.1925\n",
    "\n",
    "The degrees of freedom for the numerator is 6-1=5 and for the denominator is 5-1=4.\n",
    "\n",
    "Using an F-distribution table with degrees of freedom 5 and 4, we find that the critical F-value at the 5% significance level is 5.05.\n",
    "\n",
    "Since the calculated F-value of 1.1925 is less than the critical F-value of 5.05, we fail to reject the null hypothesis. Therefore, we can conclude that there is not enough evidence to suggest that the variances of the waiting times at the two restaurants are significantly different at the 5% significance level."
   ]
  },
  {
   "cell_type": "markdown",
   "id": "0e5abec2",
   "metadata": {},
   "source": [
    "### 9.\n",
    "\n",
    "step 1:\n",
    "\n",
    "Group A:-\n",
    "\n",
    "n1 = 6\n",
    "\n",
    "x̄1 = (80+85+90+92+87+83)/6 = 85.17\n",
    "\n",
    "s1^2 = [(80-85.17)^2 + (85-85.17)^2 + (90-85.17)^2 + (92-85.17)^2 + (87-85.17)^2 + (83-85.17)^2]/(6-1) = 19.90\n",
    "\n",
    "Group B:-\n",
    "\n",
    "n2 = 6\n",
    "\n",
    "x̄2 = (75+78+82+79+81+84)/6 = 80.17\n",
    "\n",
    "s2^2 = [(75-80.17)^2 + (78-80.17)^2 + (82-80.17)^2 + (79-80.17)^2 + (81-80.17)^2 + (84-80.17)^2]/(6-1) = 9.40\n",
    "\n",
    "Step 2:\n",
    "\n",
    "The F-test statistic is calculated as:\n",
    "\n",
    "F = s1^2/s2^2 = 19.90/9.40 = 2.11\n",
    "\n",
    "Step 3:\n",
    "\n",
    "The degrees of freedom for the numerator (df1) and denominator (df2) are calculated as:\n",
    "\n",
    "df1 = n1 - 1 = 5\n",
    "df2 = n2 - 1 = 5\n",
    "\n",
    "Step 4:\n",
    "\n",
    "At the 1% significance level with df1 = 5 and df2 = 5, the critical value of the F-test statistic is 10.13, obtained from an F-distribution table or calculator.\n",
    "\n",
    "Step 5:\n",
    "\n",
    "Since the calculated F-test statistic (2.11) is less than the critical value (10.13), we fail to reject the null hypothesis and conclude that there is not enough evidence to suggest that the variances of the two groups are different at the 1% significance level.\n",
    "\n",
    "Therefore, we can assume that the variances of the two groups are equal."
   ]
  },
  {
   "cell_type": "code",
   "execution_count": null,
   "id": "2be0a70e",
   "metadata": {},
   "outputs": [],
   "source": []
  },
  {
   "cell_type": "code",
   "execution_count": null,
   "id": "7b251e0e",
   "metadata": {},
   "outputs": [],
   "source": []
  },
  {
   "cell_type": "code",
   "execution_count": null,
   "id": "d92daa45",
   "metadata": {},
   "outputs": [],
   "source": []
  }
 ],
 "metadata": {
  "kernelspec": {
   "display_name": "Python 3 (ipykernel)",
   "language": "python",
   "name": "python3"
  },
  "language_info": {
   "codemirror_mode": {
    "name": "ipython",
    "version": 3
   },
   "file_extension": ".py",
   "mimetype": "text/x-python",
   "name": "python",
   "nbconvert_exporter": "python",
   "pygments_lexer": "ipython3",
   "version": "3.9.13"
  }
 },
 "nbformat": 4,
 "nbformat_minor": 5
}
