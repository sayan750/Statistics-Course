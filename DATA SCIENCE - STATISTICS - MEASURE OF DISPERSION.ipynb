{
 "cells": [
  {
   "cell_type": "markdown",
   "id": "7e8730b8",
   "metadata": {},
   "source": [
    "### Dispersion\n",
    "\n",
    "**In statistics, dispersion refers to the amount of variability or spread in a set of data. Measures of dispersion are used to describe how much the values in a dataset differ from each other. Here are some common measures of dispersion:**\n",
    "\n",
    "1. Range: The range is the difference between the largest and smallest values in a dataset. It is a simple measure of dispersion, but it can be affected by extreme values.\n",
    "\n",
    "2. Variance: The variance measures how much the values in a dataset vary from the mean. It is calculated by taking the sum of the squared differences between each value and the mean, and dividing by the number of values in the dataset. The square root of the variance is the standard deviation.\n",
    "\n",
    "3. Standard deviation: The standard deviation is a measure of how much the values in a dataset deviate from the mean. It is calculated by taking the square root of the variance.\n",
    "\n",
    "4. Interquartile range (IQR): The IQR is the range of the middle 50% of the values in a dataset. It is calculated by subtracting the 25th percentile (lower quartile) from the 75th percentile (upper quartile).\n",
    "\n",
    "5. Mean absolute deviation (MAD): The MAD measures the average absolute difference between each value in a dataset and the mean. It is calculated by taking the sum of the absolute differences between each value and the mean, and dividing by the number of values in the dataset."
   ]
  },
  {
   "cell_type": "code",
   "execution_count": 14,
   "id": "42e10bda",
   "metadata": {},
   "outputs": [],
   "source": [
    "age=[23,43,23,56,74,32,68,98,45,32]"
   ]
  },
  {
   "cell_type": "code",
   "execution_count": 15,
   "id": "b55ad160",
   "metadata": {},
   "outputs": [],
   "source": [
    "import numpy as np"
   ]
  },
  {
   "cell_type": "code",
   "execution_count": 16,
   "id": "38d5c7ea",
   "metadata": {},
   "outputs": [
    {
     "data": {
      "text/plain": [
       "49.4"
      ]
     },
     "execution_count": 16,
     "metadata": {},
     "output_type": "execute_result"
    }
   ],
   "source": [
    "np.mean(age)"
   ]
  },
  {
   "cell_type": "code",
   "execution_count": 17,
   "id": "23ed415a",
   "metadata": {},
   "outputs": [
    {
     "data": {
      "text/plain": [
       "541.64"
      ]
     },
     "execution_count": 17,
     "metadata": {},
     "output_type": "execute_result"
    }
   ],
   "source": [
    "np.var(age)"
   ]
  },
  {
   "cell_type": "code",
   "execution_count": 18,
   "id": "1d5a0a3d",
   "metadata": {},
   "outputs": [
    {
     "data": {
      "text/plain": [
       "23.273160507331188"
      ]
     },
     "execution_count": 18,
     "metadata": {},
     "output_type": "execute_result"
    }
   ],
   "source": [
    "np.std(age)"
   ]
  },
  {
   "cell_type": "code",
   "execution_count": 19,
   "id": "6908d787",
   "metadata": {},
   "outputs": [],
   "source": [
    "import pandas as pd"
   ]
  },
  {
   "cell_type": "code",
   "execution_count": 20,
   "id": "3e096bad",
   "metadata": {},
   "outputs": [],
   "source": [
    "d=[[10,12,13],[34,23,45],[32,34,21]]"
   ]
  },
  {
   "cell_type": "code",
   "execution_count": 21,
   "id": "99ac3019",
   "metadata": {},
   "outputs": [],
   "source": [
    "df = pd.DataFrame(d,columns=[\"A\",\"B\",\"C\"])"
   ]
  },
  {
   "cell_type": "code",
   "execution_count": 22,
   "id": "00c332c1",
   "metadata": {},
   "outputs": [
    {
     "data": {
      "text/html": [
       "<div>\n",
       "<style scoped>\n",
       "    .dataframe tbody tr th:only-of-type {\n",
       "        vertical-align: middle;\n",
       "    }\n",
       "\n",
       "    .dataframe tbody tr th {\n",
       "        vertical-align: top;\n",
       "    }\n",
       "\n",
       "    .dataframe thead th {\n",
       "        text-align: right;\n",
       "    }\n",
       "</style>\n",
       "<table border=\"1\" class=\"dataframe\">\n",
       "  <thead>\n",
       "    <tr style=\"text-align: right;\">\n",
       "      <th></th>\n",
       "      <th>A</th>\n",
       "      <th>B</th>\n",
       "      <th>C</th>\n",
       "    </tr>\n",
       "  </thead>\n",
       "  <tbody>\n",
       "    <tr>\n",
       "      <th>0</th>\n",
       "      <td>10</td>\n",
       "      <td>12</td>\n",
       "      <td>13</td>\n",
       "    </tr>\n",
       "    <tr>\n",
       "      <th>1</th>\n",
       "      <td>34</td>\n",
       "      <td>23</td>\n",
       "      <td>45</td>\n",
       "    </tr>\n",
       "    <tr>\n",
       "      <th>2</th>\n",
       "      <td>32</td>\n",
       "      <td>34</td>\n",
       "      <td>21</td>\n",
       "    </tr>\n",
       "  </tbody>\n",
       "</table>\n",
       "</div>"
      ],
      "text/plain": [
       "    A   B   C\n",
       "0  10  12  13\n",
       "1  34  23  45\n",
       "2  32  34  21"
      ]
     },
     "execution_count": 22,
     "metadata": {},
     "output_type": "execute_result"
    }
   ],
   "source": [
    "df"
   ]
  },
  {
   "cell_type": "code",
   "execution_count": 23,
   "id": "7873072c",
   "metadata": {},
   "outputs": [
    {
     "data": {
      "text/plain": [
       "A    177.333333\n",
       "B    121.000000\n",
       "C    277.333333\n",
       "dtype: float64"
      ]
     },
     "execution_count": 23,
     "metadata": {},
     "output_type": "execute_result"
    }
   ],
   "source": [
    "## Column wise\n",
    "df.var()"
   ]
  },
  {
   "cell_type": "code",
   "execution_count": 24,
   "id": "9527d6de",
   "metadata": {},
   "outputs": [
    {
     "data": {
      "text/plain": [
       "0      2.333333\n",
       "1    121.000000\n",
       "2     49.000000\n",
       "dtype: float64"
      ]
     },
     "execution_count": 24,
     "metadata": {},
     "output_type": "execute_result"
    }
   ],
   "source": [
    "## Row wise\n",
    "df.var(axis=1)"
   ]
  },
  {
   "cell_type": "code",
   "execution_count": null,
   "id": "ea2e7931",
   "metadata": {},
   "outputs": [],
   "source": []
  },
  {
   "cell_type": "code",
   "execution_count": null,
   "id": "075d4dfd",
   "metadata": {},
   "outputs": [],
   "source": []
  },
  {
   "cell_type": "code",
   "execution_count": null,
   "id": "dffaffa3",
   "metadata": {},
   "outputs": [],
   "source": []
  },
  {
   "cell_type": "code",
   "execution_count": null,
   "id": "6aba5e68",
   "metadata": {},
   "outputs": [],
   "source": []
  },
  {
   "cell_type": "code",
   "execution_count": null,
   "id": "55ae2765",
   "metadata": {},
   "outputs": [],
   "source": []
  }
 ],
 "metadata": {
  "kernelspec": {
   "display_name": "Python 3 (ipykernel)",
   "language": "python",
   "name": "python3"
  },
  "language_info": {
   "codemirror_mode": {
    "name": "ipython",
    "version": 3
   },
   "file_extension": ".py",
   "mimetype": "text/x-python",
   "name": "python",
   "nbconvert_exporter": "python",
   "pygments_lexer": "ipython3",
   "version": "3.9.13"
  }
 },
 "nbformat": 4,
 "nbformat_minor": 5
}
